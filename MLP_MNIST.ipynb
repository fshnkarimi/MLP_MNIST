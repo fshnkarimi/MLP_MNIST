{
  "nbformat": 4,
  "nbformat_minor": 0,
  "metadata": {
    "colab": {
      "name": "ML2021S_HW4.ipynb",
      "provenance": [],
      "collapsed_sections": []
    },
    "kernelspec": {
      "display_name": "Python 3",
      "language": "python",
      "name": "python3"
    },
    "language_info": {
      "codemirror_mode": {
        "name": "ipython",
        "version": 3
      },
      "file_extension": ".py",
      "mimetype": "text/x-python",
      "name": "python",
      "nbconvert_exporter": "python",
      "pygments_lexer": "ipython3",
      "version": "3.8.6"
    },
    "toc": {
      "base_numbering": 1,
      "nav_menu": {},
      "number_sections": true,
      "sideBar": true,
      "skip_h1_title": false,
      "title_cell": "Table of Contents",
      "title_sidebar": "Contents",
      "toc_cell": false,
      "toc_position": {},
      "toc_section_display": true,
      "toc_window_display": false
    },
    "varInspector": {
      "cols": {
        "lenName": 16,
        "lenType": 16,
        "lenVar": 40
      },
      "kernels_config": {
        "python": {
          "delete_cmd_postfix": "",
          "delete_cmd_prefix": "del ",
          "library": "var_list.py",
          "varRefreshCmd": "print(var_dic_list())"
        },
        "r": {
          "delete_cmd_postfix": ") ",
          "delete_cmd_prefix": "rm(",
          "library": "var_list.r",
          "varRefreshCmd": "cat(var_dic_list()) "
        }
      },
      "types_to_exclude": [
        "module",
        "function",
        "builtin_function_or_method",
        "instance",
        "_Feature"
      ],
      "window_display": false
    }
  },
  "cells": [
    {
      "cell_type": "markdown",
      "metadata": {
        "deletable": false,
        "editable": false,
        "heading_collapsed": true,
        "id": "7P66a3NStetI",
        "run_control": {
          "frozen": true
        }
      },
      "source": [
        "# CE-40717: Machine Learning"
      ]
    },
    {
      "cell_type": "markdown",
      "metadata": {
        "deletable": false,
        "editable": false,
        "heading_collapsed": true,
        "hidden": true,
        "run_control": {
          "frozen": true
        },
        "id": "I0iK7C0H9a-5"
      },
      "source": [
        "## HW4-MultiLayer Perceptron (MLP)"
      ]
    },
    {
      "cell_type": "markdown",
      "metadata": {
        "hidden": true,
        "id": "ZsX3itNwTc8T"
      },
      "source": [
        "The following lines of code will load the [MNIST](http://yann.lecun.com/exdb/mnist/) data and turn them\n",
        "into numpy arrays, you can print their shape if you like.\n",
        "You can also transform the data as you wish, including seperating\n",
        "the training data for cross validation.\n",
        "\n",
        "If you have the data (on google drive or locally) change the root\n",
        "address accordingly, if you don't, set download=True but you might encounter\n",
        "some problems downloading the data."
      ]
    },
    {
      "cell_type": "code",
      "metadata": {
        "hidden": true,
        "id": "eRDGolwttJJr"
      },
      "source": [
        "\"\"\"\n",
        "    Afshin Karimi\n",
        "    Std Number: 99210431\n",
        "\"\"\"\n",
        "import torchvision.datasets as ds\n",
        "import numpy as np\n",
        "import pandas as pd\n",
        "\n",
        "data_train = np.array(ds.MNIST(root=\"./data\", train=True, download=True).data)\n",
        "target_train = np.array(ds.MNIST(root=\"./data\", train=True, download=True).targets)\n",
        "data_test = np.array(ds.MNIST(root=\"./data\", train=False, download=True).data)\n",
        "target_test = np.array(ds.MNIST(root=\"./data\", train=False, download=True).targets)\n",
        "\n",
        "#### Transform the data! ####\n",
        "data_train = data_train/255\n",
        "data_train = data_train.reshape(data_train.shape[0],data_train.shape[1]*data_train.shape[2])\n",
        "data_test = data_test/255\n",
        "data_test = data_test.reshape(data_test.shape[0],data_test.shape[1]*data_test.shape[2])"
      ],
      "execution_count": 1,
      "outputs": []
    },
    {
      "cell_type": "markdown",
      "metadata": {
        "deletable": false,
        "editable": false,
        "heading_collapsed": true,
        "hidden": true,
        "id": "OQ0i1tVuT3bb",
        "run_control": {
          "frozen": true
        }
      },
      "source": [
        "### Part1:\n",
        "Complete the functions of the MLP class to create\n",
        "a MultiLayer Perceptron"
      ]
    },
    {
      "cell_type": "code",
      "metadata": {
        "id": "Z9DTfSQnHNaS"
      },
      "source": [
        "def ReLU(Z):\n",
        "    return np.maximum(Z, 0)\n",
        "\n",
        "def softmax(Z):\n",
        "    A = np.exp(Z) / sum(np.exp(Z))\n",
        "    return A\n",
        "    \n",
        "\n",
        "def ReLU_deriv(Z):\n",
        "    return Z > 0\n",
        "\n",
        "def one_hot(Y):\n",
        "    one_hot_Y = np.zeros((Y.size, Y.max() + 1))\n",
        "    one_hot_Y[np.arange(Y.size), Y] = 1\n",
        "    one_hot_Y = one_hot_Y.T\n",
        "    return one_hot_Y\n",
        "\n",
        "def get_predictions(A2):\n",
        "    return np.argmax(A2, 0)\n",
        "\n",
        "def get_accuracy(predictions, Y):\n",
        "    return np.sum(predictions == Y) / Y.size\n",
        "\n",
        "\n",
        "def cross_entropy(predictions, targets, epsilon=1e-12):\n",
        "    predictions = np.clip(predictions, epsilon, 1. - epsilon)\n",
        "    N = predictions.shape[0]\n",
        "    ce = -np.sum(targets*np.log(predictions+1e-9))/N\n",
        "    return ce"
      ],
      "execution_count": 2,
      "outputs": []
    },
    {
      "cell_type": "code",
      "metadata": {
        "hidden": true,
        "id": "86AdE8SntShx"
      },
      "source": [
        "class MLP:\n",
        "    def __init__(self, in_dimensions, hidden_dimensions, out_dimensions):\n",
        "        self.w1 = np.random.rand(hidden_dimensions, in_dimensions) - 0.5\n",
        "        self.b1 = np.random.rand(hidden_dimensions, 1) - 0.5\n",
        "        self.w2 = np.random.rand(out_dimensions, hidden_dimensions) - 0.5\n",
        "        self.b2 = np.random.rand(out_dimensions, 1) - 0.5\n",
        "\n",
        "    def forward(self, x):\n",
        "        # perform a forward pass of the network and return the result\n",
        "        # remember to retain the value of each node (i.e. self.h1_forward)\n",
        "        # in order to use in backpropagation\n",
        "        # Use whatever activation function you wish for the first layer\n",
        "        # and softmax activation for the output layer\n",
        "\n",
        "        # input layer\n",
        "        self.A0_forward = x.T\n",
        "\n",
        "        # input layer to hidden layer \n",
        "        self.z1_forward = (self.w1 @ self.A0_forward) + self.b1\n",
        "        self.A1_forward = ReLU(self.z1_forward)\n",
        "\n",
        "        # hidden layer to output layer\n",
        "        self.z2_forward = (self.w2 @ self.A1_forward) + self.b2\n",
        "        self.A2_forward = softmax(self.z2_forward)\n",
        "\n",
        "\n",
        "    def backward(self, loss, y):\n",
        "        # perform backpropagation on the loss value and compute the gradient \n",
        "        # w.r.t. every element of the network and retain them (i.e. self.w1_backward)\n",
        "\n",
        "        one_hot_Y = one_hot(y)\n",
        "        self.z2_backward = self.A2_forward - one_hot_Y\n",
        "        self.w2_backward = 1 / y.size * self.z2_backward @ self.A1_forward.T\n",
        "        self.b2_backward = 1 / y.size * np.sum(self.z2_backward)\n",
        "        self.z1_backward = (self.w2.T @ self.z2_backward) * ReLU_deriv(self.z1_forward)\n",
        "        self.w1_backward = 1 / y.size * self.z1_backward @ self.A0_forward.T\n",
        "        self.b1_backward = 1 / y.size * np.sum(self.z1_backward)\n",
        "\n",
        "    def step(self, lr, lam):\n",
        "        # simply update all the weights using the gradinets computed in backward\n",
        "        # and the given learning rate with SGD\n",
        "        # don't forget to use regularization\n",
        "\n",
        "        self.w1 -= (lr * self.w1_backward - (self.w1*lam*lr))\n",
        "        self.b1 -= (lr * self.b1_backward - (self.b1*lam*lr))\n",
        "        self.w2 -= (lr * self.w2_backward - (self.w2*lam*lr))\n",
        "        self.b2 -= (lr * self.b2_backward - (self.b2*lam*lr))"
      ],
      "execution_count": null,
      "outputs": []
    },
    {
      "cell_type": "markdown",
      "metadata": {
        "deletable": false,
        "editable": false,
        "heading_collapsed": true,
        "hidden": true,
        "id": "EeMLiOlMUC2D",
        "run_control": {
          "frozen": true
        }
      },
      "source": [
        "### Part2:\n",
        "Make instances of your network and train them **using l2 regularization and choose the lambda using k-fold cross validation\n",
        "(set the candidate lambda as you wish)**.\n",
        "\n",
        "You may choose the hyperparameters (i.e. num of epochs, learning rate etc.)\n",
        "as you wish. \n",
        "\n",
        "Then train a final model on all the training data with the chosen lambda.\n"
      ]
    },
    {
      "cell_type": "code",
      "metadata": {
        "hidden": true,
        "id": "0Ojg9CSL4vei",
        "colab": {
          "base_uri": "https://localhost:8080/"
        },
        "outputId": "1305bbc4-7e7f-4e42-b638-a54c18ac4c13"
      },
      "source": [
        "n_epochs = 200 # number of epochs\n",
        "lr = 0.25 # learning rate\n",
        "k = 5 # number of folds\n",
        "in_dim = 28 * 28 # MNIST has 28*28 images\n",
        "hidden_dim = 32 # number of hidden dimensions for the hidden layer\n",
        "out_dim =  10 # MNIST has 10 classes\n",
        "fold_len = int(data_train.shape[0]/k)\n",
        "lambdas = [0.0001,0.001, 0.01] \n",
        "best_lambda = lambdas[-1]\n",
        "best_acc = 0\n",
        "\n",
        "for l in lambdas:\n",
        "    \n",
        "    acc = 0 # accuracy for current lambda\n",
        "    loss = 0 # loss for current lambda\n",
        "    acc_list=[]\n",
        "    loss_list=[]\n",
        "    for j in range(k):\n",
        "        model = MLP(in_dim, hidden_dim, out_dim)\n",
        "        fold_train_set = np.concatenate((data_train[:j * fold_len],data_train[ (j + 1) * fold_len:])) # the training data for the current fold\n",
        "        fold_train_target = np.concatenate((target_train[:j * fold_len],target_train[ (j + 1) * fold_len:])) # the training targets for the current fold\n",
        "        val_set = data_train[j * fold_len:(j + 1) * fold_len] # the validation data for the current fold\n",
        "        val_target = target_train[j * fold_len:(j + 1) * fold_len] # the validation targets for the current fold\n",
        "\n",
        "        for i in range(n_epochs):\n",
        "            # train the model on the data with the curent lambda\n",
        "            model.forward(fold_train_set)\n",
        "            model.backward(loss,fold_train_target)\n",
        "            model.step(lr,l)\n",
        "        # test the model on the current validation data\n",
        "        model.forward(val_set)\n",
        "        pred = get_predictions(model.A2_forward)\n",
        "        fold_acc = get_accuracy(pred, val_target)# current fold accuracy\n",
        "        acc_list.append(fold_acc)\n",
        "        fold_loss = cross_entropy(pred, val_target)\n",
        "        loss_list.append(fold_loss)\n",
        "\n",
        "    acc = max(acc_list)\n",
        "    loss= min(loss_list)\n",
        "    print(\"Lambda:\", l)\n",
        "    print(\"Loss: %.4f Accuracy: %.4f\" % (loss, acc))\n",
        "    print()\n",
        "    if acc > best_acc:\n",
        "        best_acc = acc\n",
        "        best_lambda = l\n",
        "\n",
        "print(\"Best lambda is\",best_lambda, \"with %.4f accuracy\" % best_acc)"
      ],
      "execution_count": null,
      "outputs": [
        {
          "output_type": "stream",
          "text": [
            "Lambda: 0.0001\n",
            "Loss: 0.6355 Accuracy: 0.8871\n",
            "\n",
            "Lambda: 0.001\n",
            "Loss: 0.7115 Accuracy: 0.8861\n",
            "\n",
            "Lambda: 0.01\n",
            "Loss: 0.7546 Accuracy: 0.8664\n",
            "\n",
            "Best lambda is 0.0001 with 0.8871 accuracy\n"
          ],
          "name": "stdout"
        }
      ]
    },
    {
      "cell_type": "markdown",
      "metadata": {
        "deletable": false,
        "editable": false,
        "heading_collapsed": true,
        "hidden": true,
        "id": "6cDg4S27xD5Y",
        "run_control": {
          "frozen": true
        }
      },
      "source": [
        "### Part3:\n",
        "Train a final model using the best lambda on all the training data"
      ]
    },
    {
      "cell_type": "code",
      "metadata": {
        "hidden": true,
        "id": "fE1mC1BkxMdt",
        "colab": {
          "base_uri": "https://localhost:8080/"
        },
        "outputId": "25414d6b-a78c-4772-f2b6-edaa2c5bcee6"
      },
      "source": [
        "n_epochs = 200 # number of epochs\n",
        "lr = 0.25 # learning rate\n",
        "model = MLP(in_dim, hidden_dim, out_dim)# new model\n",
        "loss_history = []\n",
        "acc_history = []\n",
        "for i in range(n_epochs):\n",
        "    #### training code here ####\n",
        "    model.forward(data_train)\n",
        "    pred = get_predictions(model.A2_forward)\n",
        "    acc = get_accuracy(pred, target_train)\n",
        "    acc_history.append(acc)\n",
        "    loss = cross_entropy(pred, target_train)\n",
        "    loss_history.append(loss)\n",
        "    model.backward(loss,target_train)\n",
        "    model.step(lr, best_lambda)\n",
        "    if (i % 10 == 0 and i != 0) or i == n_epochs-1:\n",
        "        print(\"epoch:\", i)\n",
        "        print(\"Loss: %.4f Accuracy: %.4f\" % (loss, acc))"
      ],
      "execution_count": null,
      "outputs": [
        {
          "output_type": "stream",
          "text": [
            "epoch: 10\n",
            "Loss: 6.1476 Accuracy: 0.4648\n",
            "epoch: 20\n",
            "Loss: 4.0305 Accuracy: 0.6270\n",
            "epoch: 30\n",
            "Loss: 2.8994 Accuracy: 0.7061\n",
            "epoch: 40\n",
            "Loss: 2.2653 Accuracy: 0.7502\n",
            "epoch: 50\n",
            "Loss: 1.9085 Accuracy: 0.7792\n",
            "epoch: 60\n",
            "Loss: 1.6799 Accuracy: 0.7913\n",
            "epoch: 70\n",
            "Loss: 1.4778 Accuracy: 0.7729\n",
            "epoch: 80\n",
            "Loss: 1.3784 Accuracy: 0.8149\n",
            "epoch: 90\n",
            "Loss: 1.3076 Accuracy: 0.8305\n",
            "epoch: 100\n",
            "Loss: 1.2361 Accuracy: 0.8381\n",
            "epoch: 110\n",
            "Loss: 1.1794 Accuracy: 0.8444\n",
            "epoch: 120\n",
            "Loss: 1.1173 Accuracy: 0.8490\n",
            "epoch: 130\n",
            "Loss: 1.0375 Accuracy: 0.8529\n",
            "epoch: 140\n",
            "Loss: 1.0019 Accuracy: 0.8565\n",
            "epoch: 150\n",
            "Loss: 0.9736 Accuracy: 0.8601\n",
            "epoch: 160\n",
            "Loss: 0.9501 Accuracy: 0.8635\n",
            "epoch: 170\n",
            "Loss: 0.9094 Accuracy: 0.8672\n",
            "epoch: 180\n",
            "Loss: 0.9011 Accuracy: 0.8700\n",
            "epoch: 190\n",
            "Loss: 0.8848 Accuracy: 0.8725\n",
            "epoch: 199\n",
            "Loss: 0.8258 Accuracy: 0.8743\n"
          ],
          "name": "stdout"
        }
      ]
    },
    {
      "cell_type": "markdown",
      "metadata": {
        "deletable": false,
        "editable": false,
        "heading_collapsed": true,
        "hidden": true,
        "run_control": {
          "frozen": true
        },
        "id": "t8J6xsXt9a_A"
      },
      "source": [
        "### Part4:"
      ]
    },
    {
      "cell_type": "markdown",
      "metadata": {
        "hidden": true,
        "id": "6X8hFKXQUeml"
      },
      "source": [
        "Plot the training loss value and accuracy (mean over all batches each epoch if you're using mini-batches) over epochs\n",
        "for the final model that is trained on all the training data"
      ]
    },
    {
      "cell_type": "code",
      "metadata": {
        "hidden": true,
        "id": "_LpeQU225eGi",
        "colab": {
          "base_uri": "https://localhost:8080/",
          "height": 279
        },
        "outputId": "643d8448-c15e-40e4-88e7-4e7a56c54d16"
      },
      "source": [
        "import matplotlib.pyplot as plt\n",
        "\n",
        "epochs = range(1, n_epochs+1)\n",
        "plt.plot(epochs, loss_history, label='Training Loss')\n",
        "plt.xlabel('Epochs')\n",
        "plt.ylabel('Loss')\n",
        "plt.legend()\n",
        "plt.show()"
      ],
      "execution_count": null,
      "outputs": [
        {
          "output_type": "display_data",
          "data": {
            "image/png": "[encoded data removed]",
            "text/plain": [
              "<Figure size 432x288 with 1 Axes>"
            ]
          },
          "metadata": {
            "tags": [],
            "needs_background": "light"
          }
        }
      ]
    },
    {
      "cell_type": "code",
      "metadata": {
        "colab": {
          "base_uri": "https://localhost:8080/",
          "height": 280
        },
        "id": "XDj22J8_qefG",
        "outputId": "4e1aaced-95f3-4ab1-9fe2-fea67219ecf7"
      },
      "source": [
        "plt.plot(epochs, acc_history, label='Training Accuracy')\n",
        "plt.xlabel('Epochs')\n",
        "plt.ylabel('Accuracy')\n",
        "plt.legend()\n",
        "plt.show()"
      ],
      "execution_count": null,
      "outputs": [
        {
          "output_type": "display_data",
          "data": {
            "image/png": "[encoded data removed]",
            "text/plain": [
              "<Figure size 432x288 with 1 Axes>"
            ]
          },
          "metadata": {
            "tags": [],
            "needs_background": "light"
          }
        }
      ]
    },
    {
      "cell_type": "markdown",
      "metadata": {
        "hidden": true,
        "id": "WIaBwatyUqmC"
      },
      "source": [
        "Use your network on the test set and report the accuracy, you must get at least 70% accuracy on the test set."
      ]
    },
    {
      "cell_type": "code",
      "metadata": {
        "colab": {
          "base_uri": "https://localhost:8080/"
        },
        "id": "RpTXiWo3tvq4",
        "outputId": "8c68c8f0-9542-4eb3-b49b-a4ae77b515ea"
      },
      "source": [
        "# compute accuracy on test set\n",
        "model.forward(data_test)\n",
        "pred = get_predictions(model.A2_forward)\n",
        "acc = get_accuracy(pred, target_test)\n",
        "print(f\"Accuracy for test set : {acc*100 :2f} %\")"
      ],
      "execution_count": null,
      "outputs": [
        {
          "output_type": "stream",
          "text": [
            "Accuracy for test set : 88.020000 %\n"
          ],
          "name": "stdout"
        }
      ]
    },
    {
      "cell_type": "code",
      "metadata": {
        "hidden": true,
        "id": "NmQiBh4C5ULJ"
      },
      "source": [
        "def make_predictions(X):\n",
        "    model.forward(X)\n",
        "    predictions = get_predictions(model.A2_forward)\n",
        "    return predictions\n",
        "\n",
        "def test_prediction(index):\n",
        "    current_image = data_test.T[:, index, None]\n",
        "    # print(current_image.shape)\n",
        "    prediction = make_predictions(current_image.T)\n",
        "    label = target_test.reshape(10000,1)[index]\n",
        "    print(\"Prediction: \", prediction)\n",
        "    print(\"Label: \", label)\n",
        "    \n",
        "    current_image = current_image.reshape((28, 28)) * 255\n",
        "    plt.gray()\n",
        "    plt.imshow(current_image, interpolation='nearest')\n",
        "    plt.show()"
      ],
      "execution_count": null,
      "outputs": []
    },
    {
      "cell_type": "code",
      "metadata": {
        "colab": {
          "base_uri": "https://localhost:8080/",
          "height": 1000
        },
        "id": "mx6bEwvRsb2B",
        "outputId": "f2992051-f497-49d7-970a-d576d81f01ee"
      },
      "source": [
        "for i in range(10):\n",
        "    test_prediction(i)"
      ],
      "execution_count": null,
      "outputs": [
        {
          "output_type": "stream",
          "text": [
            "Prediction:  [7]\n",
            "Label:  [7]\n"
          ],
          "name": "stdout"
        },
        {
          "output_type": "display_data",
          "data": {
            "image/png": "[encoded data removed]",
            "text/plain": [
              "<Figure size 432x288 with 1 Axes>"
            ]
          },
          "metadata": {
            "tags": [],
            "needs_background": "light"
          }
        },
        {
          "output_type": "stream",
          "text": [
            "Prediction:  [2]\n",
            "Label:  [2]\n"
          ],
          "name": "stdout"
        },
        {
          "output_type": "display_data",
          "data": {
            "image/png": "[encoded data removed]",
            "text/plain": [
              "<Figure size 432x288 with 1 Axes>"
            ]
          },
          "metadata": {
            "tags": [],
            "needs_background": "light"
          }
        },
        {
          "output_type": "stream",
          "text": [
            "Prediction:  [1]\n",
            "Label:  [1]\n"
          ],
          "name": "stdout"
        },
        {
          "output_type": "display_data",
          "data": {
            "image/png": "[encoded data removed]",
            "text/plain": [
              "<Figure size 432x288 with 1 Axes>"
            ]
          },
          "metadata": {
            "tags": [],
            "needs_background": "light"
          }
        },
        {
          "output_type": "stream",
          "text": [
            "Prediction:  [0]\n",
            "Label:  [0]\n"
          ],
          "name": "stdout"
        },
        {
          "output_type": "display_data",
          "data": {
            "image/png": "[encoded data removed]",
            "text/plain": [
              "<Figure size 432x288 with 1 Axes>"
            ]
          },
          "metadata": {
            "tags": [],
            "needs_background": "light"
          }
        },
        {
          "output_type": "stream",
          "text": [
            "Prediction:  [4]\n",
            "Label:  [4]\n"
          ],
          "name": "stdout"
        },
        {
          "output_type": "display_data",
          "data": {
            "image/png": "[encoded data removed]",
            "text/plain": [
              "<Figure size 432x288 with 1 Axes>"
            ]
          },
          "metadata": {
            "tags": [],
            "needs_background": "light"
          }
        },
        {
          "output_type": "stream",
          "text": [
            "Prediction:  [1]\n",
            "Label:  [1]\n"
          ],
          "name": "stdout"
        },
        {
          "output_type": "display_data",
          "data": {
            "image/png": "[encoded data removed]",
            "text/plain": [
              "<Figure size 432x288 with 1 Axes>"
            ]
          },
          "metadata": {
            "tags": [],
            "needs_background": "light"
          }
        },
        {
          "output_type": "stream",
          "text": [
            "Prediction:  [4]\n",
            "Label:  [4]\n"
          ],
          "name": "stdout"
        },
        {
          "output_type": "display_data",
          "data": {
            "image/png": "[encoded data removed]",
            "text/plain": [
              "<Figure size 432x288 with 1 Axes>"
            ]
          },
          "metadata": {
            "tags": [],
            "needs_background": "light"
          }
        },
        {
          "output_type": "stream",
          "text": [
            "Prediction:  [9]\n",
            "Label:  [9]\n"
          ],
          "name": "stdout"
        },
        {
          "output_type": "display_data",
          "data": {
            "image/png": "[encoded data removed]",
            "text/plain": [
              "<Figure size 432x288 with 1 Axes>"
            ]
          },
          "metadata": {
            "tags": [],
            "needs_background": "light"
          }
        },
        {
          "output_type": "stream",
          "text": [
            "Prediction:  [6]\n",
            "Label:  [5]\n"
          ],
          "name": "stdout"
        },
        {
          "output_type": "display_data",
          "data": {
            "image/png": "[encoded data removed]",
            "text/plain": [
              "<Figure size 432x288 with 1 Axes>"
            ]
          },
          "metadata": {
            "tags": [],
            "needs_background": "light"
          }
        },
        {
          "output_type": "stream",
          "text": [
            "Prediction:  [9]\n",
            "Label:  [9]\n"
          ],
          "name": "stdout"
        },
        {
          "output_type": "display_data",
          "data": {
            "image/png": "[encoded data removed]",
            "text/plain": [
              "<Figure size 432x288 with 1 Axes>"
            ]
          },
          "metadata": {
            "tags": [],
            "needs_background": "light"
          }
        }
      ]
    },
    {
      "cell_type": "markdown",
      "metadata": {
        "hidden": true,
        "id": "zyp8Wgx_nV-A"
      },
      "source": [
        "Below you can add code cells and improve on the network structure as you see fit (it still must be an MLP), train and test your network and explain why it works better.\n"
      ]
    },
    {
      "cell_type": "code",
      "metadata": {
        "id": "NdJxdPRErqD_"
      },
      "source": [
        "class Improved_MLP:\n",
        "    def __init__(self, in_dimensions, hidden_dimensions1, hidden_dimensions2, out_dimensions):\n",
        "        self.w1 = np.random.rand(hidden_dimensions1, in_dimensions) - 0.5\n",
        "        self.b1 = np.random.rand(hidden_dimensions1, 1) - 0.5\n",
        "        self.w2 = np.random.rand(hidden_dimensions2, hidden_dimensions1) - 0.5\n",
        "        self.b2 = np.random.rand(hidden_dimensions2, 1) - 0.5\n",
        "        self.w3 = np.random.rand(out_dimensions, hidden_dimensions2) - 0.5\n",
        "        self.b3 = np.random.rand(out_dimensions, 1) - 0.5\n",
        "    \n",
        "    def forward(self, x):\n",
        "        # perform a forward pass of the network and return the result\n",
        "        # remember to retain the value of each node (i.e. self.h1_forward)\n",
        "        # in order to use in backpropagation\n",
        "        # Use whatever activation function you wish for the first layer\n",
        "        # and softmax activation for the output layer\n",
        "\n",
        "        # input layer\n",
        "        self.A0_forward = x.T\n",
        "\n",
        "        # input layer to hidden layer1 \n",
        "        self.z1_forward = (self.w1 @ self.A0_forward) + self.b1\n",
        "        self.A1_forward = ReLU(self.z1_forward)\n",
        "\n",
        "        # hidden layer1  to hidden layer2 \n",
        "        self.z2_forward = (self.w2 @ self.A1_forward) + self.b2\n",
        "        self.A2_forward = ReLU(self.z2_forward)\n",
        "\n",
        "        # hidden layer to output layer\n",
        "        self.z3_forward = (self.w3 @ self.A2_forward) + self.b3\n",
        "        self.A3_forward = softmax(self.z3_forward)\n",
        "\n",
        "\n",
        "    def backward(self, loss, y):\n",
        "        # perform backpropagation on the loss value and compute the gradient \n",
        "        # w.r.t. every element of the network and retain them (i.e. self.w1_backward)\n",
        "        one_hot_Y = one_hot(y)\n",
        "        self.z3_backward = self.A3_forward - one_hot_Y\n",
        "        self.w3_backward = 1 / y.size * self.z3_backward @ self.A2_forward.T\n",
        "        self.b3_backward = 1 / y.size * np.sum(self.z3_backward)\n",
        "\n",
        "        self.z2_backward = (self.w3.T @ self.z3_backward) * ReLU_deriv(self.z2_forward)\n",
        "        self.w2_backward = 1 / y.size * self.z2_backward @ self.A1_forward.T\n",
        "        self.b2_backward = 1 / y.size * np.sum(self.z2_backward)\n",
        "\n",
        "        self.z1_backward = (self.w2.T @ self.z2_backward) * ReLU_deriv(self.z1_forward)\n",
        "        self.w1_backward = 1 / y.size * self.z1_backward @ self.A0_forward.T\n",
        "        self.b1_backward = 1 / y.size * np.sum(self.z1_backward)\n",
        "\n",
        "\n",
        "    def step(self, lr, lam):\n",
        "        # simply update all the weights using the gradinets computed in backward\n",
        "        # and the given learning rate with SGD\n",
        "        # don't forget to use regularization\n",
        "        self.w1 -= (lr * self.w1_backward - (self.w1*lam*lr))\n",
        "        self.b1 -= (lr * self.b1_backward - (self.b1*lam*lr))\n",
        "        self.w2 -= (lr * self.w2_backward - (self.w2*lam*lr))\n",
        "        self.b2 -= (lr * self.b2_backward - (self.b2*lam*lr))\n",
        "        self.w3 -= (lr * self.w3_backward - (self.w3*lam*lr))\n",
        "        self.b3 -= (lr * self.b3_backward - (self.b3*lam*lr))"
      ],
      "execution_count": 6,
      "outputs": []
    },
    {
      "cell_type": "code",
      "metadata": {
        "colab": {
          "base_uri": "https://localhost:8080/"
        },
        "id": "NEqP4Td1wnCd",
        "outputId": "d94fd703-913a-4faa-8b57-1865d55bcbc0"
      },
      "source": [
        "n_epochs = 25 # number of epochs\n",
        "lr = 0.1 # learning rate\n",
        "in_dim = 28 * 28 # MNIST has 28*28 images\n",
        "hidden_dim1 = 128 # number of hidden dimensions for the hidden layer\n",
        "hidden_dim2 = 32 # number of hidden dimensions for the hidden layer\n",
        "out_dim =  10 # MNIST has 10 classes\n",
        "best_lambda = 0.0001\n",
        "batch_size = 100\n",
        "batch_count = int(len(data_train) / batch_size)\n",
        "model = Improved_MLP(in_dim, hidden_dim1, hidden_dim2, out_dim)# new model\n",
        "\n",
        "for i in range(n_epochs):\n",
        "    epoch_loss = 0\n",
        "    epoch_acc = 0\n",
        "    for batch_number in range(batch_count):\n",
        "        batch = np.random.choice(len(data_train), batch_size)\n",
        "        batch_x, batch_y = data_train[batch], target_train[batch]\n",
        "        model.forward(batch_x)\n",
        "        pred = get_predictions(model.A3_forward)\n",
        "        acc = get_accuracy(pred, batch_y)\n",
        "        loss = cross_entropy(pred, batch_y)\n",
        "        epoch_loss += loss\n",
        "        epoch_acc += acc\n",
        "        model.backward(loss,batch_y)\n",
        "        model.step(lr, best_lambda)\n",
        "        \n",
        "    print(\"epoch:\", i+1)\n",
        "    print(\"Loss: %.4f Accuracy: %.4f\" % (epoch_loss / batch_count, epoch_acc / batch_count))"
      ],
      "execution_count": 9,
      "outputs": [
        {
          "output_type": "stream",
          "text": [
            "epoch: 1\n",
            "Loss: 1.2085 Accuracy: 0.8315\n",
            "epoch: 2\n",
            "Loss: 0.4991 Accuracy: 0.9200\n",
            "epoch: 3\n",
            "Loss: 0.4379 Accuracy: 0.9354\n",
            "epoch: 4\n",
            "Loss: 0.3360 Accuracy: 0.9453\n",
            "epoch: 5\n",
            "Loss: 0.3575 Accuracy: 0.9513\n",
            "epoch: 6\n",
            "Loss: 0.3077 Accuracy: 0.9547\n",
            "epoch: 7\n",
            "Loss: 0.3150 Accuracy: 0.9590\n",
            "epoch: 8\n",
            "Loss: 0.1855 Accuracy: 0.9630\n",
            "epoch: 9\n",
            "Loss: 0.2279 Accuracy: 0.9665\n",
            "epoch: 10\n",
            "Loss: 0.1986 Accuracy: 0.9672\n",
            "epoch: 11\n",
            "Loss: 0.1886 Accuracy: 0.9709\n",
            "epoch: 12\n",
            "Loss: 0.1830 Accuracy: 0.9728\n",
            "epoch: 13\n",
            "Loss: 0.1699 Accuracy: 0.9741\n",
            "epoch: 14\n",
            "Loss: 0.1658 Accuracy: 0.9753\n",
            "epoch: 15\n",
            "Loss: 0.1343 Accuracy: 0.9777\n",
            "epoch: 16\n",
            "Loss: 0.1036 Accuracy: 0.9790\n",
            "epoch: 17\n",
            "Loss: 0.1451 Accuracy: 0.9795\n",
            "epoch: 18\n",
            "Loss: 0.1178 Accuracy: 0.9817\n",
            "epoch: 19\n",
            "Loss: 0.1088 Accuracy: 0.9816\n",
            "epoch: 20\n",
            "Loss: 0.1278 Accuracy: 0.9836\n",
            "epoch: 21\n",
            "Loss: 0.0936 Accuracy: 0.9846\n",
            "epoch: 22\n",
            "Loss: 0.0784 Accuracy: 0.9857\n",
            "epoch: 23\n",
            "Loss: 0.0781 Accuracy: 0.9859\n",
            "epoch: 24\n",
            "Loss: 0.0819 Accuracy: 0.9870\n",
            "epoch: 25\n",
            "Loss: 0.0736 Accuracy: 0.9887\n"
          ],
          "name": "stdout"
        }
      ]
    },
    {
      "cell_type": "code",
      "metadata": {
        "colab": {
          "base_uri": "https://localhost:8080/"
        },
        "id": "4erwhQLayI07",
        "outputId": "40f9849c-365c-4cdb-ffa1-e8b315292453"
      },
      "source": [
        "# compute accuracy on test set\n",
        "model.forward(data_test)\n",
        "pred = get_predictions(model.A3_forward)\n",
        "acc = get_accuracy(pred, target_test)\n",
        "print(f\"Accuracy for test set : {acc*100 :2f} %\")"
      ],
      "execution_count": 10,
      "outputs": [
        {
          "output_type": "stream",
          "text": [
            "Accuracy for test set : 96.500000 %\n"
          ],
          "name": "stdout"
        }
      ]
    },
    {
      "cell_type": "markdown",
      "metadata": {
        "id": "oMR113s0UHhw"
      },
      "source": [
        "### I've used deeper network with 2 hidden layer for this network. dimensions of first hidden layer is 128 and dimensions for second hidden layer is 32. Also I used mini batch gradient descent to improve network optimization"
      ]
    },
    {
      "cell_type": "code",
      "metadata": {
        "id": "k_Fz70Xs-9TW"
      },
      "source": [
        ""
      ],
      "execution_count": null,
      "outputs": []
    }
  ]
}